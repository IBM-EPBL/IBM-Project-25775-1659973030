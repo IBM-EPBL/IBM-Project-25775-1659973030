{
 "cells": [
  {
   "cell_type": "code",
   "execution_count": 2,
   "id": "a8f292bd",
   "metadata": {},
   "outputs": [],
   "source": [
    "import pandas as pd\n",
    "import numpy as np\n",
    "import matplotlib as plt\n",
    "from sklearn.preprocessing import LabelEncoder\n",
    "import pickle"
   ]
  },
  {
   "cell_type": "code",
   "execution_count": 2,
   "id": "531dc191",
   "metadata": {},
   "outputs": [],
   "source": [
    "import pandas as pd\n",
    "df=pd.read_csv(r\"C:\\Users\\Swetha\\Downloads\\Data Car Resale Value Prediction (3)\\Data\\autos.csv\", header=0, sep=',', encoding='Latin1',)"
   ]
  },
  {
   "cell_type": "code",
   "execution_count": 4,
   "id": "62479c99",
   "metadata": {},
   "outputs": [
    {
     "name": "stdout",
     "output_type": "stream",
     "text": [
      "privat        371525\n",
      "gewerblich         3\n",
      "Name: seller, dtype: int64\n"
     ]
    },
    {
     "name": "stderr",
     "output_type": "stream",
     "text": [
      "C:\\Users\\Swetha\\AppData\\Local\\Temp/ipykernel_4504/2840843502.py:6: FutureWarning: In a future version of pandas all arguments of DataFrame.drop except for the argument 'labels' will be keyword-only\n",
      "  df=df.drop('seller',1)\n",
      "C:\\Users\\Swetha\\AppData\\Local\\Temp/ipykernel_4504/2840843502.py:9: FutureWarning: In a future version of pandas all arguments of DataFrame.drop except for the argument 'labels' will be keyword-only\n",
      "  df=df.drop('offerType',1)\n"
     ]
    },
    {
     "name": "stdout",
     "output_type": "stream",
     "text": [
      "Angebot    371516\n",
      "Gesuch         12\n",
      "Name: offerType, dtype: int64\n"
     ]
    }
   ],
   "source": [
    "import pandas as pd\n",
    "df=pd.read_csv(r\"C:\\Users\\Swetha\\Downloads\\Data Car Resale Value Prediction (3)\\Data\\autos.csv\", header=0, sep=',', encoding='Latin1',)\n",
    "\n",
    "print(df.seller.value_counts())\n",
    "df[df.seller!='gewerblich']\n",
    "df=df.drop('seller',1)\n",
    "print(df.offerType.value_counts())\n",
    "df[df.offerType!='Gesuch']\n",
    "df=df.drop('offerType',1)"
   ]
  },
  {
   "cell_type": "code",
   "execution_count": 5,
   "id": "ca1133bb",
   "metadata": {
    "scrolled": true
   },
   "outputs": [
    {
     "name": "stdout",
     "output_type": "stream",
     "text": [
      "(371528, 18)\n",
      "(309171, 18)\n"
     ]
    }
   ],
   "source": [
    "print(df.shape)\n",
    "df=df[(df.powerPS >50) & (df.powerPS <900)]\n",
    "df=df[(df.yearOfRegistration >=1950) & (df.yearOfRegistration <2017)]\n",
    "print(df.shape)"
   ]
  },
  {
   "cell_type": "code",
   "execution_count": 6,
   "id": "d6e373dc",
   "metadata": {},
   "outputs": [],
   "source": [
    "df.drop(['name','abtest','dateCrawled','nrOfPictures','lastSeen','postalCode','dateCreated'],axis='columns',inplace=True)"
   ]
  },
  {
   "cell_type": "code",
   "execution_count": 7,
   "id": "1f15a2ca",
   "metadata": {},
   "outputs": [],
   "source": [
    "new_df=df.copy()\n",
    "new_df=new_df.drop_duplicates(['price','vehicleType','yearOfRegistration','gearbox','powerPS','model','kilometer','monthOfRegistration','fuelType','notRepairedDamage'])"
   ]
  },
  {
   "cell_type": "code",
   "execution_count": 8,
   "id": "0ac3ed78",
   "metadata": {},
   "outputs": [],
   "source": [
    "new_df.gearbox.replace(('manuell','automatik'),('manual','automatic'),inplace=True)\n",
    "new_df.fuelType.replace(('benzin','andere','elektro'),('petrol','others','electric'),inplace=True)\n",
    "new_df.vehicleType.replace(('kleinwagen','cabrio','kombi','andere'),('small car','convertible','combination','others'),inplace=True)\n",
    "new_df.notRepairedDamage.replace(('ja','nein'),('Yes','No'),inplace=True)"
   ]
  },
  {
   "cell_type": "code",
   "execution_count": 9,
   "id": "dfbec191",
   "metadata": {},
   "outputs": [],
   "source": [
    "new_df=new_df[(new_df.price >=100)&(new_df.price <=150000)]\n",
    "new_df['notRepairedDamage'].fillna(value='not-declared',inplace=True)\n",
    "new_df['fuelType'].fillna(value='not-declared',inplace=True)\n",
    "new_df['gearbox'].fillna(value='not-declared',inplace=True)\n",
    "new_df['vehicleType'].fillna(value='not-declared',inplace=True)\n",
    "new_df['model'].fillna(value='not-declared',inplace=True)"
   ]
  },
  {
   "cell_type": "code",
   "execution_count": 10,
   "id": "8887cb7e",
   "metadata": {},
   "outputs": [],
   "source": [
    "new_df.to_csv(\"autos_preprocessed.csv\")"
   ]
  },
  {
   "cell_type": "code",
   "execution_count": 11,
   "id": "09cc00c0",
   "metadata": {},
   "outputs": [
    {
     "name": "stdout",
     "output_type": "stream",
     "text": [
      "gearbox : LabelEncoder()\n",
      "notRepairedDamage : LabelEncoder()\n",
      "model : LabelEncoder()\n",
      "brand : LabelEncoder()\n",
      "fuelType : LabelEncoder()\n",
      "vehicleType : LabelEncoder()\n",
      "Index(['price', 'yearOfRegistration', 'powerPS', 'kilometer',\n",
      "       'monthOfRegistration', 'gearbox_labels', 'notRepairedDamage_labels',\n",
      "       'model_labels', 'brand_labels', 'fuelType_labels',\n",
      "       'vehicleType_labels'],\n",
      "      dtype='object')\n"
     ]
    }
   ],
   "source": [
    "from sklearn.preprocessing import LabelEncoder\n",
    "labels=['gearbox','notRepairedDamage','model','brand','fuelType','vehicleType']\n",
    "mapper={}\n",
    "for i in labels:\n",
    "    mapper[i]=LabelEncoder()\n",
    "    mapper[i].fit(new_df[i])\n",
    "    tr=mapper[i].transform(new_df[i])\n",
    "    np.save(str('classes'+i+'.npy'),mapper[i].classes_)\n",
    "    print(i,\":\",mapper[i])\n",
    "    new_df.loc[:,i+'_labels']=pd.Series(tr,index=new_df.index)\n",
    "labeled = new_df[['price','yearOfRegistration','powerPS','kilometer','monthOfRegistration']+[x+\"_labels\" for x in labels]]\n",
    "print(labeled.columns)"
   ]
  },
  {
   "cell_type": "code",
   "execution_count": 12,
   "id": "34aa9c5c",
   "metadata": {},
   "outputs": [],
   "source": [
    "Y=labeled.iloc[:,0].values\n",
    "X=labeled.iloc[:,1:].values\n",
    "Y=Y.reshape(-1,1)"
   ]
  },
  {
   "cell_type": "code",
   "execution_count": 13,
   "id": "2de52b45",
   "metadata": {},
   "outputs": [],
   "source": [
    "from sklearn.model_selection import cross_val_score,train_test_split\n",
    "X_train,X_test,Y_train,Y_test= train_test_split(X,Y,test_size=0.3,random_state=3)"
   ]
  },
  {
   "cell_type": "code",
   "execution_count": 18,
   "id": "f32bd01c",
   "metadata": {},
   "outputs": [
    {
     "data": {
      "text/plain": [
       "RandomForestRegressor(max_depth=10, n_estimators=1000, random_state=34)"
      ]
     },
     "execution_count": 18,
     "metadata": {},
     "output_type": "execute_result"
    }
   ],
   "source": [
    "from sklearn.ensemble import RandomForestRegressor\n",
    "from sklearn.metrics import r2_score\n",
    "regressor = RandomForestRegressor(n_estimators=1000,max_depth=10,random_state=34)\n",
    "regressor.fit(X_train,np.ravel(Y_train,order='C'))"
   ]
  },
  {
   "cell_type": "code",
   "execution_count": 19,
   "id": "306223ae",
   "metadata": {},
   "outputs": [
    {
     "name": "stdout",
     "output_type": "stream",
     "text": [
      "0.834527626497731\n"
     ]
    }
   ],
   "source": [
    "y_pred=regressor.predict(X_test)\n",
    "print(r2_score(Y_test,y_pred))"
   ]
  },
  {
   "cell_type": "code",
   "execution_count": 20,
   "id": "6ce6612e",
   "metadata": {},
   "outputs": [],
   "source": [
    "filename='resale_model.sav'\n",
    "pickle.dump(regressor,open(filename,'wb'))"
   ]
  },
  {
   "cell_type": "code",
   "execution_count": 21,
   "id": "20c91fc6",
   "metadata": {},
   "outputs": [],
   "source": [
    "import pandas as pd\n",
    "import numpy as np\n",
    "from flask import Flask,render_template,Response,request\n",
    "import pickle\n",
    "from sklearn.preprocessing import LabelEncoder\n",
    "import pickle"
   ]
  },
  {
   "cell_type": "code",
   "execution_count": 22,
   "id": "15e001a5",
   "metadata": {},
   "outputs": [],
   "source": [
    "app=Flask(__name__)\n",
    "filename= 'resale_model.sav'\n",
    "model_rand = pickle.load(open(filename,'rb'))"
   ]
  },
  {
   "cell_type": "code",
   "execution_count": 23,
   "id": "b40a54a5",
   "metadata": {},
   "outputs": [],
   "source": [
    "@app.route('/')\n",
    "def index():\n",
    "    return render_template('resaleintro.html')\n",
    "@app.route('/predict')\n",
    "def predict():\n",
    "    return render_template('resalepredict.html')\n"
   ]
  },
  {
   "cell_type": "code",
   "execution_count": 24,
   "id": "0823319e",
   "metadata": {},
   "outputs": [],
   "source": [
    "@app.route('/y_predict',methods=['GET','POST'])\n",
    "def y_predict():\n",
    "    regyear = int(request.form['regyear'])\n",
    "    powerps =float(request.form['powerps'])\n",
    "    kms= float(request.form['kms'])\n",
    "    regmonth = int(request.form.get('regmonth'))\n",
    "    gearbox = request.form['gearbox']\n",
    "    damage =request.form['dam']\n",
    "    model = request.form.get('modeltype')\n",
    "    brand = request.form.get('brand')\n",
    "    fuelType = request.form.get('fuel')\n",
    "    vehicletype = request.form.get('vehicletype')\n",
    "    new_row = {'yearOfRegistration':regyear,'powerPs':powerps,'kilometer':kms,'monthOfRegistration':regmonth, 'gearbox':gearbox, 'notRepairedDamage':damage, 'model':model, 'brand':brand, 'fuelType':fuelType, 'vehicleType':vehicletype}\n",
    "    print(new_row)\n",
    "    new_df = pd.DataFrame(columns =['vehicleType','yearOfRegistration', 'gearbox', 'powerPs', 'model', 'kilometer', 'monthOfRegistration', 'fuleType', 'brand', 'notRepairedDamage'])\n",
    "    new_df = new_df.append(new_row,ignore_index = True)\n",
    "    labels = ['gearbox','notRepairedDamage','model','brand','fuelType','vehicleType']\n",
    "    mapper={}\n",
    "    for i in labels:\n",
    "        mapper[i]=LabelEncoder()\n",
    "        mapper[i].classes_=np.load(str('classes'+i+'.npy'))\n",
    "        tr=mapper[i].fit_transform(new_df[i])\n",
    "        new_df.loc[:, i +'labels'] = pd.Series(tr, index = new_df.index)\n",
    "    labeled = new_df[['yearOfRegistration','powerPs','kilometer','monthOfRegistrstion']+[x+'_labels' for x in labels]]\n",
    "    x=labeled.values\n",
    "    print(x)\n",
    "    y_prediction = model_rand.predict(x)\n",
    "    print(y_prediction)\n",
    "    return render_template('resalepredict.html',ypred = 'The resale value predicted is {:.2f}$'.format(y_prediction[0]))"
   ]
  },
  {
   "cell_type": "code",
   "execution_count": 26,
   "id": "de5a8f35",
   "metadata": {
    "scrolled": true
   },
   "outputs": [
    {
     "name": "stdout",
     "output_type": "stream",
     "text": [
      " * Serving Flask app \"__main__\" (lazy loading)\n",
      " * Environment: production\n",
      "\u001b[31m   WARNING: This is a development server. Do not use it in a production deployment.\u001b[0m\n",
      "\u001b[2m   Use a production WSGI server instead.\u001b[0m\n",
      " * Debug mode: on\n"
     ]
    },
    {
     "name": "stderr",
     "output_type": "stream",
     "text": [
      " * Restarting with watchdog (windowsapi)\n"
     ]
    },
    {
     "ename": "SystemExit",
     "evalue": "1",
     "output_type": "error",
     "traceback": [
      "An exception has occurred, use %tb to see the full traceback.\n",
      "\u001b[1;31mSystemExit\u001b[0m\u001b[1;31m:\u001b[0m 1\n"
     ]
    },
    {
     "name": "stderr",
     "output_type": "stream",
     "text": [
      "C:\\Users\\Swetha\\anaconda3\\lib\\site-packages\\IPython\\core\\interactiveshell.py:3452: UserWarning: To exit: use 'exit', 'quit', or Ctrl-D.\n",
      "  warn(\"To exit: use 'exit', 'quit', or Ctrl-D.\", stacklevel=1)\n"
     ]
    }
   ],
   "source": [
    "if __name__ == '__main__' :\n",
    "    app.run(host='localhost',debug=True,threaded=False)"
   ]
  },
  {
   "cell_type": "code",
   "execution_count": null,
   "id": "2464bb95",
   "metadata": {},
   "outputs": [],
   "source": []
  }
 ],
 "metadata": {
  "kernelspec": {
   "display_name": "Python 3 (ipykernel)",
   "language": "python",
   "name": "python3"
  },
  "language_info": {
   "codemirror_mode": {
    "name": "ipython",
    "version": 3
   },
   "file_extension": ".py",
   "mimetype": "text/x-python",
   "name": "python",
   "nbconvert_exporter": "python",
   "pygments_lexer": "ipython3",
   "version": "3.9.7"
  }
 },
 "nbformat": 4,
 "nbformat_minor": 5
}
